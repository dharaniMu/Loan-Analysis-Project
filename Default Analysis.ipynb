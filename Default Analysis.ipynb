{
 "cells": [
  {
   "cell_type": "code",
   "execution_count": 129,
   "id": "6d7ffef8",
   "metadata": {},
   "outputs": [],
   "source": [
    "import warnings\n",
    "warnings.filterwarnings(\"ignore\")"
   ]
  },
  {
   "cell_type": "code",
   "execution_count": 130,
   "id": "3ab572c9",
   "metadata": {},
   "outputs": [],
   "source": [
    "import numpy as np\n",
    "import pandas as pd\n",
    "import matplotlib.pyplot as plt,seaborn as sns\n",
    "%matplotlib inline"
   ]
  },
  {
   "cell_type": "code",
   "execution_count": 131,
   "id": "3f6620a8",
   "metadata": {},
   "outputs": [],
   "source": [
    "loandata=pd.read_csv(\"loan.csv\")"
   ]
  },
  {
   "cell_type": "code",
   "execution_count": 132,
   "id": "6ceb11c1",
   "metadata": {
    "scrolled": true
   },
   "outputs": [
    {
     "data": {
      "text/html": [
       "<div>\n",
       "<style scoped>\n",
       "    .dataframe tbody tr th:only-of-type {\n",
       "        vertical-align: middle;\n",
       "    }\n",
       "\n",
       "    .dataframe tbody tr th {\n",
       "        vertical-align: top;\n",
       "    }\n",
       "\n",
       "    .dataframe thead th {\n",
       "        text-align: right;\n",
       "    }\n",
       "</style>\n",
       "<table border=\"1\" class=\"dataframe\">\n",
       "  <thead>\n",
       "    <tr style=\"text-align: right;\">\n",
       "      <th></th>\n",
       "      <th>id</th>\n",
       "      <th>member_id</th>\n",
       "      <th>loan_amnt</th>\n",
       "      <th>funded_amnt</th>\n",
       "      <th>funded_amnt_inv</th>\n",
       "      <th>term</th>\n",
       "      <th>int_rate</th>\n",
       "      <th>installment</th>\n",
       "      <th>grade</th>\n",
       "      <th>sub_grade</th>\n",
       "      <th>emp_title</th>\n",
       "      <th>emp_length</th>\n",
       "      <th>home_ownership</th>\n",
       "      <th>annual_inc</th>\n",
       "      <th>verification_status</th>\n",
       "    </tr>\n",
       "  </thead>\n",
       "  <tbody>\n",
       "    <tr>\n",
       "      <th>0</th>\n",
       "      <td>1077501</td>\n",
       "      <td>1296599</td>\n",
       "      <td>5000</td>\n",
       "      <td>5000</td>\n",
       "      <td>4975.0</td>\n",
       "      <td>36 months</td>\n",
       "      <td>10.65%</td>\n",
       "      <td>162.87</td>\n",
       "      <td>B</td>\n",
       "      <td>B2</td>\n",
       "      <td>NaN</td>\n",
       "      <td>10+ years</td>\n",
       "      <td>RENT</td>\n",
       "      <td>24000.0</td>\n",
       "      <td>Verified</td>\n",
       "    </tr>\n",
       "    <tr>\n",
       "      <th>1</th>\n",
       "      <td>1077430</td>\n",
       "      <td>1314167</td>\n",
       "      <td>2500</td>\n",
       "      <td>2500</td>\n",
       "      <td>2500.0</td>\n",
       "      <td>60 months</td>\n",
       "      <td>15.27%</td>\n",
       "      <td>59.83</td>\n",
       "      <td>C</td>\n",
       "      <td>C4</td>\n",
       "      <td>Ryder</td>\n",
       "      <td>&lt; 1 year</td>\n",
       "      <td>RENT</td>\n",
       "      <td>30000.0</td>\n",
       "      <td>Source Verified</td>\n",
       "    </tr>\n",
       "    <tr>\n",
       "      <th>2</th>\n",
       "      <td>1077175</td>\n",
       "      <td>1313524</td>\n",
       "      <td>2400</td>\n",
       "      <td>2400</td>\n",
       "      <td>2400.0</td>\n",
       "      <td>36 months</td>\n",
       "      <td>15.96%</td>\n",
       "      <td>84.33</td>\n",
       "      <td>C</td>\n",
       "      <td>C5</td>\n",
       "      <td>NaN</td>\n",
       "      <td>10+ years</td>\n",
       "      <td>RENT</td>\n",
       "      <td>12252.0</td>\n",
       "      <td>Not Verified</td>\n",
       "    </tr>\n",
       "    <tr>\n",
       "      <th>3</th>\n",
       "      <td>1076863</td>\n",
       "      <td>1277178</td>\n",
       "      <td>10000</td>\n",
       "      <td>10000</td>\n",
       "      <td>10000.0</td>\n",
       "      <td>36 months</td>\n",
       "      <td>13.49%</td>\n",
       "      <td>339.31</td>\n",
       "      <td>C</td>\n",
       "      <td>C1</td>\n",
       "      <td>AIR RESOURCES BOARD</td>\n",
       "      <td>10+ years</td>\n",
       "      <td>RENT</td>\n",
       "      <td>49200.0</td>\n",
       "      <td>Source Verified</td>\n",
       "    </tr>\n",
       "    <tr>\n",
       "      <th>4</th>\n",
       "      <td>1075358</td>\n",
       "      <td>1311748</td>\n",
       "      <td>3000</td>\n",
       "      <td>3000</td>\n",
       "      <td>3000.0</td>\n",
       "      <td>60 months</td>\n",
       "      <td>12.69%</td>\n",
       "      <td>67.79</td>\n",
       "      <td>B</td>\n",
       "      <td>B5</td>\n",
       "      <td>University Medical Group</td>\n",
       "      <td>1 year</td>\n",
       "      <td>RENT</td>\n",
       "      <td>80000.0</td>\n",
       "      <td>Source Verified</td>\n",
       "    </tr>\n",
       "  </tbody>\n",
       "</table>\n",
       "</div>"
      ],
      "text/plain": [
       "        id  member_id  loan_amnt  funded_amnt  funded_amnt_inv        term  \\\n",
       "0  1077501    1296599       5000         5000           4975.0   36 months   \n",
       "1  1077430    1314167       2500         2500           2500.0   60 months   \n",
       "2  1077175    1313524       2400         2400           2400.0   36 months   \n",
       "3  1076863    1277178      10000        10000          10000.0   36 months   \n",
       "4  1075358    1311748       3000         3000           3000.0   60 months   \n",
       "\n",
       "  int_rate  installment grade sub_grade                 emp_title emp_length  \\\n",
       "0   10.65%       162.87     B        B2                       NaN  10+ years   \n",
       "1   15.27%        59.83     C        C4                     Ryder   < 1 year   \n",
       "2   15.96%        84.33     C        C5                       NaN  10+ years   \n",
       "3   13.49%       339.31     C        C1       AIR RESOURCES BOARD  10+ years   \n",
       "4   12.69%        67.79     B        B5  University Medical Group     1 year   \n",
       "\n",
       "  home_ownership  annual_inc verification_status  \n",
       "0           RENT     24000.0            Verified  \n",
       "1           RENT     30000.0     Source Verified  \n",
       "2           RENT     12252.0        Not Verified  \n",
       "3           RENT     49200.0     Source Verified  \n",
       "4           RENT     80000.0     Source Verified  "
      ]
     },
     "execution_count": 132,
     "metadata": {},
     "output_type": "execute_result"
    }
   ],
   "source": [
    "loandata.iloc[0:5, 0:15]"
   ]
  },
  {
   "cell_type": "code",
   "execution_count": 133,
   "id": "67f03c8b",
   "metadata": {},
   "outputs": [
    {
     "data": {
      "text/plain": [
       "(39717, 111)"
      ]
     },
     "execution_count": 133,
     "metadata": {},
     "output_type": "execute_result"
    }
   ],
   "source": [
    "loandata.shape"
   ]
  },
  {
   "cell_type": "code",
   "execution_count": 134,
   "id": "93e114eb",
   "metadata": {},
   "outputs": [
    {
     "data": {
      "text/plain": [
       "loan_status\n",
       "Fully Paid     32950\n",
       "Charged Off     5627\n",
       "Current         1140\n",
       "Name: count, dtype: int64"
      ]
     },
     "execution_count": 134,
     "metadata": {},
     "output_type": "execute_result"
    }
   ],
   "source": [
    "loandata.loan_status.value_counts()"
   ]
  },
  {
   "cell_type": "code",
   "execution_count": 135,
   "id": "5bbb1900",
   "metadata": {
    "scrolled": true
   },
   "outputs": [
    {
     "data": {
      "text/plain": [
       "verification_status\n",
       "Not Verified           16921\n",
       "Verified               12809\n",
       "Source Verified         9987\n",
       "Name: count, dtype: int64"
      ]
     },
     "execution_count": 135,
     "metadata": {},
     "output_type": "execute_result"
    }
   ],
   "source": [
    "loandata[[\"verification_status\"]].value_counts()"
   ]
  },
  {
   "cell_type": "code",
   "execution_count": 136,
   "id": "b443db1d",
   "metadata": {},
   "outputs": [
    {
     "data": {
      "text/html": [
       "<div>\n",
       "<style scoped>\n",
       "    .dataframe tbody tr th:only-of-type {\n",
       "        vertical-align: middle;\n",
       "    }\n",
       "\n",
       "    .dataframe tbody tr th {\n",
       "        vertical-align: top;\n",
       "    }\n",
       "\n",
       "    .dataframe thead th {\n",
       "        text-align: right;\n",
       "    }\n",
       "</style>\n",
       "<table border=\"1\" class=\"dataframe\">\n",
       "  <thead>\n",
       "    <tr style=\"text-align: right;\">\n",
       "      <th></th>\n",
       "      <th>funded_amnt_inv</th>\n",
       "      <th>term</th>\n",
       "      <th>int_rate</th>\n",
       "      <th>installment</th>\n",
       "      <th>grade</th>\n",
       "      <th>sub_grade</th>\n",
       "      <th>emp_title</th>\n",
       "      <th>emp_length</th>\n",
       "      <th>home_ownership</th>\n",
       "      <th>annual_inc</th>\n",
       "      <th>verification_status</th>\n",
       "      <th>issue_d</th>\n",
       "      <th>loan_status</th>\n",
       "    </tr>\n",
       "  </thead>\n",
       "  <tbody>\n",
       "    <tr>\n",
       "      <th>0</th>\n",
       "      <td>4975.00000</td>\n",
       "      <td>36 months</td>\n",
       "      <td>10.65%</td>\n",
       "      <td>162.87</td>\n",
       "      <td>B</td>\n",
       "      <td>B2</td>\n",
       "      <td>NaN</td>\n",
       "      <td>10+ years</td>\n",
       "      <td>RENT</td>\n",
       "      <td>24000.0</td>\n",
       "      <td>Verified</td>\n",
       "      <td>Dec-11</td>\n",
       "      <td>Fully Paid</td>\n",
       "    </tr>\n",
       "    <tr>\n",
       "      <th>9</th>\n",
       "      <td>5350.00000</td>\n",
       "      <td>60 months</td>\n",
       "      <td>12.69%</td>\n",
       "      <td>121.45</td>\n",
       "      <td>B</td>\n",
       "      <td>B5</td>\n",
       "      <td>Starbucks</td>\n",
       "      <td>&lt; 1 year</td>\n",
       "      <td>RENT</td>\n",
       "      <td>15000.0</td>\n",
       "      <td>Verified</td>\n",
       "      <td>Dec-11</td>\n",
       "      <td>Charged Off</td>\n",
       "    </tr>\n",
       "    <tr>\n",
       "      <th>18</th>\n",
       "      <td>6000.00000</td>\n",
       "      <td>36 months</td>\n",
       "      <td>11.71%</td>\n",
       "      <td>198.46</td>\n",
       "      <td>B</td>\n",
       "      <td>B3</td>\n",
       "      <td>Connection Inspection</td>\n",
       "      <td>1 year</td>\n",
       "      <td>MORTGAGE</td>\n",
       "      <td>84000.0</td>\n",
       "      <td>Verified</td>\n",
       "      <td>Dec-11</td>\n",
       "      <td>Fully Paid</td>\n",
       "    </tr>\n",
       "    <tr>\n",
       "      <th>20</th>\n",
       "      <td>19142.16108</td>\n",
       "      <td>60 months</td>\n",
       "      <td>15.27%</td>\n",
       "      <td>484.63</td>\n",
       "      <td>C</td>\n",
       "      <td>C4</td>\n",
       "      <td>Archdiocese of Galveston Houston</td>\n",
       "      <td>3 years</td>\n",
       "      <td>RENT</td>\n",
       "      <td>43370.0</td>\n",
       "      <td>Verified</td>\n",
       "      <td>Dec-11</td>\n",
       "      <td>Fully Paid</td>\n",
       "    </tr>\n",
       "    <tr>\n",
       "      <th>21</th>\n",
       "      <td>21000.00000</td>\n",
       "      <td>36 months</td>\n",
       "      <td>12.42%</td>\n",
       "      <td>701.73</td>\n",
       "      <td>B</td>\n",
       "      <td>B4</td>\n",
       "      <td>Osram Sylvania</td>\n",
       "      <td>10+ years</td>\n",
       "      <td>RENT</td>\n",
       "      <td>105000.0</td>\n",
       "      <td>Verified</td>\n",
       "      <td>Dec-11</td>\n",
       "      <td>Charged Off</td>\n",
       "    </tr>\n",
       "    <tr>\n",
       "      <th>25</th>\n",
       "      <td>15000.00000</td>\n",
       "      <td>36 months</td>\n",
       "      <td>9.91%</td>\n",
       "      <td>483.38</td>\n",
       "      <td>B</td>\n",
       "      <td>B1</td>\n",
       "      <td>Winfield Pathology Consultants</td>\n",
       "      <td>2 years</td>\n",
       "      <td>MORTGAGE</td>\n",
       "      <td>92000.0</td>\n",
       "      <td>Verified</td>\n",
       "      <td>Dec-11</td>\n",
       "      <td>Fully Paid</td>\n",
       "    </tr>\n",
       "    <tr>\n",
       "      <th>31</th>\n",
       "      <td>31825.00000</td>\n",
       "      <td>36 months</td>\n",
       "      <td>7.90%</td>\n",
       "      <td>995.82</td>\n",
       "      <td>A</td>\n",
       "      <td>A4</td>\n",
       "      <td>Audubon Mutual Housing Corporation</td>\n",
       "      <td>5 years</td>\n",
       "      <td>MORTGAGE</td>\n",
       "      <td>75000.0</td>\n",
       "      <td>Verified</td>\n",
       "      <td>Dec-11</td>\n",
       "      <td>Fully Paid</td>\n",
       "    </tr>\n",
       "    <tr>\n",
       "      <th>32</th>\n",
       "      <td>9975.00000</td>\n",
       "      <td>60 months</td>\n",
       "      <td>15.96%</td>\n",
       "      <td>242.97</td>\n",
       "      <td>C</td>\n",
       "      <td>C5</td>\n",
       "      <td>US Legal Support</td>\n",
       "      <td>2 years</td>\n",
       "      <td>RENT</td>\n",
       "      <td>29120.0</td>\n",
       "      <td>Verified</td>\n",
       "      <td>Dec-11</td>\n",
       "      <td>Current</td>\n",
       "    </tr>\n",
       "    <tr>\n",
       "      <th>33</th>\n",
       "      <td>5000.00000</td>\n",
       "      <td>36 months</td>\n",
       "      <td>8.90%</td>\n",
       "      <td>158.77</td>\n",
       "      <td>A</td>\n",
       "      <td>A5</td>\n",
       "      <td>Good Samaritan Society</td>\n",
       "      <td>2 years</td>\n",
       "      <td>RENT</td>\n",
       "      <td>24044.0</td>\n",
       "      <td>Verified</td>\n",
       "      <td>Dec-11</td>\n",
       "      <td>Fully Paid</td>\n",
       "    </tr>\n",
       "    <tr>\n",
       "      <th>37</th>\n",
       "      <td>15000.00000</td>\n",
       "      <td>36 months</td>\n",
       "      <td>7.90%</td>\n",
       "      <td>469.36</td>\n",
       "      <td>A</td>\n",
       "      <td>A4</td>\n",
       "      <td>Gateway Hospice</td>\n",
       "      <td>1 year</td>\n",
       "      <td>RENT</td>\n",
       "      <td>45000.0</td>\n",
       "      <td>Verified</td>\n",
       "      <td>Dec-11</td>\n",
       "      <td>Fully Paid</td>\n",
       "    </tr>\n",
       "  </tbody>\n",
       "</table>\n",
       "</div>"
      ],
      "text/plain": [
       "    funded_amnt_inv        term int_rate  installment grade sub_grade  \\\n",
       "0        4975.00000   36 months   10.65%       162.87     B        B2   \n",
       "9        5350.00000   60 months   12.69%       121.45     B        B5   \n",
       "18       6000.00000   36 months   11.71%       198.46     B        B3   \n",
       "20      19142.16108   60 months   15.27%       484.63     C        C4   \n",
       "21      21000.00000   36 months   12.42%       701.73     B        B4   \n",
       "25      15000.00000   36 months    9.91%       483.38     B        B1   \n",
       "31      31825.00000   36 months    7.90%       995.82     A        A4   \n",
       "32       9975.00000   60 months   15.96%       242.97     C        C5   \n",
       "33       5000.00000   36 months    8.90%       158.77     A        A5   \n",
       "37      15000.00000   36 months    7.90%       469.36     A        A4   \n",
       "\n",
       "                             emp_title emp_length home_ownership  annual_inc  \\\n",
       "0                                  NaN  10+ years           RENT     24000.0   \n",
       "9                            Starbucks   < 1 year           RENT     15000.0   \n",
       "18               Connection Inspection     1 year       MORTGAGE     84000.0   \n",
       "20    Archdiocese of Galveston Houston    3 years           RENT     43370.0   \n",
       "21                      Osram Sylvania  10+ years           RENT    105000.0   \n",
       "25      Winfield Pathology Consultants    2 years       MORTGAGE     92000.0   \n",
       "31  Audubon Mutual Housing Corporation    5 years       MORTGAGE     75000.0   \n",
       "32                    US Legal Support    2 years           RENT     29120.0   \n",
       "33              Good Samaritan Society    2 years           RENT     24044.0   \n",
       "37                     Gateway Hospice     1 year           RENT     45000.0   \n",
       "\n",
       "   verification_status issue_d  loan_status  \n",
       "0             Verified  Dec-11   Fully Paid  \n",
       "9             Verified  Dec-11  Charged Off  \n",
       "18            Verified  Dec-11   Fully Paid  \n",
       "20            Verified  Dec-11   Fully Paid  \n",
       "21            Verified  Dec-11  Charged Off  \n",
       "25            Verified  Dec-11   Fully Paid  \n",
       "31            Verified  Dec-11   Fully Paid  \n",
       "32            Verified  Dec-11      Current  \n",
       "33            Verified  Dec-11   Fully Paid  \n",
       "37            Verified  Dec-11   Fully Paid  "
      ]
     },
     "execution_count": 136,
     "metadata": {},
     "output_type": "execute_result"
    }
   ],
   "source": [
    "loandata[loandata[\"verification_status\"].isin([\"Verified\"])].iloc[0:10, 4:17]"
   ]
  },
  {
   "cell_type": "code",
   "execution_count": 137,
   "id": "35f354c0",
   "metadata": {},
   "outputs": [],
   "source": [
    "nullvalues=loandata.isnull().sum()/loandata.shape[0]*100"
   ]
  },
  {
   "cell_type": "raw",
   "id": "7263acd0",
   "metadata": {},
   "source": [
    "Detect the null values which are greater than 30% and delete them if they are not important aspects"
   ]
  },
  {
   "cell_type": "code",
   "execution_count": 138,
   "id": "6199350c",
   "metadata": {},
   "outputs": [
    {
     "data": {
      "text/plain": [
       "open_acc_6m                       100.000000\n",
       "open_il_6m                        100.000000\n",
       "open_il_12m                       100.000000\n",
       "open_il_24m                       100.000000\n",
       "mths_since_rcnt_il                100.000000\n",
       "total_bal_il                      100.000000\n",
       "il_util                           100.000000\n",
       "open_rv_12m                       100.000000\n",
       "open_rv_24m                       100.000000\n",
       "max_bal_bc                        100.000000\n",
       "all_util                          100.000000\n",
       "total_rev_hi_lim                  100.000000\n",
       "inq_fi                            100.000000\n",
       "total_cu_tl                       100.000000\n",
       "inq_last_12m                      100.000000\n",
       "acc_open_past_24mths              100.000000\n",
       "avg_cur_bal                       100.000000\n",
       "bc_open_to_buy                    100.000000\n",
       "bc_util                           100.000000\n",
       "chargeoff_within_12_mths            0.140998\n",
       "delinq_amnt                         0.000000\n",
       "mo_sin_old_il_acct                100.000000\n",
       "mo_sin_old_rev_tl_op              100.000000\n",
       "mo_sin_rcnt_rev_tl_op             100.000000\n",
       "mo_sin_rcnt_tl                    100.000000\n",
       "mort_acc                          100.000000\n",
       "mths_since_recent_bc              100.000000\n",
       "mths_since_recent_bc_dlq          100.000000\n",
       "mths_since_recent_inq             100.000000\n",
       "mths_since_recent_revol_delinq    100.000000\n",
       "num_accts_ever_120_pd             100.000000\n",
       "num_actv_bc_tl                    100.000000\n",
       "num_actv_rev_tl                   100.000000\n",
       "num_bc_sats                       100.000000\n",
       "num_bc_tl                         100.000000\n",
       "num_il_tl                         100.000000\n",
       "num_op_rev_tl                     100.000000\n",
       "num_rev_accts                     100.000000\n",
       "num_rev_tl_bal_gt_0               100.000000\n",
       "num_sats                          100.000000\n",
       "num_tl_120dpd_2m                  100.000000\n",
       "num_tl_30dpd                      100.000000\n",
       "num_tl_90g_dpd_24m                100.000000\n",
       "num_tl_op_past_12m                100.000000\n",
       "pct_tl_nvr_dlq                    100.000000\n",
       "percent_bc_gt_75                  100.000000\n",
       "pub_rec_bankruptcies                1.754916\n",
       "tax_liens                           0.098195\n",
       "tot_hi_cred_lim                   100.000000\n",
       "total_bal_ex_mort                 100.000000\n",
       "total_bc_limit                    100.000000\n",
       "total_il_high_credit_limit        100.000000\n",
       "dtype: float64"
      ]
     },
     "execution_count": 138,
     "metadata": {},
     "output_type": "execute_result"
    }
   ],
   "source": [
    "nullvalues.tail(52)"
   ]
  },
  {
   "cell_type": "markdown",
   "id": "a7f4b225",
   "metadata": {},
   "source": [
    "###It is a big data so,high amount of null values can impact the data analysis so,delete the null values which are greater than 30%"
   ]
  },
  {
   "cell_type": "code",
   "execution_count": 139,
   "id": "989c87c6",
   "metadata": {},
   "outputs": [],
   "source": [
    "loandata.drop([\"desc\",\"mths_since_last_delinq\",\"mths_since_last_record\",\"next_pymnt_d\",\"mths_since_last_major_derog\",\"annual_inc_joint\",\"dti_joint\",\"verification_status_joint\",\"tot_coll_amt\",\"tot_cur_bal\",\"open_acc_6m\",\"open_acc_6m\",\"open_il_6m\",\"open_il_12m\",\"open_il_24m\", \"mths_since_rcnt_il\",\"total_bal_il\",\"il_util\",\"open_rv_12m\",\"open_rv_24m\",\"max_bal_bc\",\"all_util\",\n",
    "\"total_rev_hi_lim\",\"inq_fi\",\"total_cu_tl\",\"inq_last_12m\",\"acc_open_past_24mths\",\"avg_cur_bal\",\"bc_open_to_buy\",\n",
    "\"bc_util\",'mo_sin_old_il_acct',\n",
    " 'mo_sin_old_rev_tl_op',\n",
    " 'mo_sin_rcnt_rev_tl_op',\n",
    " 'mo_sin_rcnt_tl',\n",
    " 'mort_acc',\n",
    " 'mths_since_recent_bc',\n",
    " 'mths_since_recent_bc_dlq',\n",
    " 'mths_since_recent_inq',\n",
    " 'mths_since_recent_revol_delinq',\n",
    " 'num_accts_ever_120_pd',\n",
    " 'num_actv_bc_tl',\n",
    " 'num_actv_rev_tl',\n",
    " 'num_bc_sats',\n",
    " 'num_bc_tl',\n",
    " 'num_il_tl',\n",
    " 'num_op_rev_tl',\n",
    " 'num_rev_accts',\n",
    " 'num_rev_tl_bal_gt_0',\n",
    " 'num_sats',\n",
    " 'num_tl_120dpd_2m',\n",
    " 'num_tl_30dpd',\n",
    " 'num_tl_90g_dpd_24m',\n",
    " 'num_tl_op_past_12m',\n",
    " 'pct_tl_nvr_dlq',\n",
    " 'percent_bc_gt_75','tot_hi_cred_lim',\n",
    " 'total_bal_ex_mort',\n",
    " 'total_bc_limit',\n",
    " 'total_il_high_credit_limit'],axis=1,inplace=True)"
   ]
  },
  {
   "cell_type": "code",
   "execution_count": 140,
   "id": "7399a73f",
   "metadata": {},
   "outputs": [
    {
     "data": {
      "text/plain": [
       "['id',\n",
       " 'member_id',\n",
       " 'loan_amnt',\n",
       " 'funded_amnt',\n",
       " 'funded_amnt_inv',\n",
       " 'term',\n",
       " 'int_rate',\n",
       " 'installment',\n",
       " 'grade',\n",
       " 'sub_grade',\n",
       " 'emp_title',\n",
       " 'emp_length',\n",
       " 'home_ownership',\n",
       " 'annual_inc',\n",
       " 'verification_status',\n",
       " 'issue_d',\n",
       " 'loan_status',\n",
       " 'pymnt_plan',\n",
       " 'url',\n",
       " 'purpose',\n",
       " 'title',\n",
       " 'zip_code',\n",
       " 'addr_state',\n",
       " 'dti',\n",
       " 'delinq_2yrs',\n",
       " 'earliest_cr_line',\n",
       " 'inq_last_6mths',\n",
       " 'open_acc',\n",
       " 'pub_rec',\n",
       " 'revol_bal',\n",
       " 'revol_util',\n",
       " 'total_acc',\n",
       " 'initial_list_status',\n",
       " 'out_prncp',\n",
       " 'out_prncp_inv',\n",
       " 'total_pymnt',\n",
       " 'total_pymnt_inv',\n",
       " 'total_rec_prncp',\n",
       " 'total_rec_int',\n",
       " 'total_rec_late_fee',\n",
       " 'recoveries',\n",
       " 'collection_recovery_fee',\n",
       " 'last_pymnt_d',\n",
       " 'last_pymnt_amnt',\n",
       " 'last_credit_pull_d',\n",
       " 'collections_12_mths_ex_med',\n",
       " 'policy_code',\n",
       " 'application_type',\n",
       " 'acc_now_delinq',\n",
       " 'chargeoff_within_12_mths',\n",
       " 'delinq_amnt',\n",
       " 'pub_rec_bankruptcies',\n",
       " 'tax_liens']"
      ]
     },
     "execution_count": 140,
     "metadata": {},
     "output_type": "execute_result"
    }
   ],
   "source": [
    "loandata.columns.tolist()"
   ]
  },
  {
   "cell_type": "code",
   "execution_count": 141,
   "id": "23cb7e3f",
   "metadata": {},
   "outputs": [
    {
     "data": {
      "text/plain": [
       "loan_status\n",
       "Fully Paid     32950\n",
       "Charged Off     5627\n",
       "Current         1140\n",
       "Name: count, dtype: int64"
      ]
     },
     "execution_count": 141,
     "metadata": {},
     "output_type": "execute_result"
    }
   ],
   "source": [
    "loandata.loan_status.value_counts()"
   ]
  },
  {
   "cell_type": "code",
   "execution_count": 142,
   "id": "ca64ab5f",
   "metadata": {},
   "outputs": [
    {
     "data": {
      "text/plain": [
       "(39717, 53)"
      ]
     },
     "execution_count": 142,
     "metadata": {},
     "output_type": "execute_result"
    }
   ],
   "source": [
    "loandata.shape"
   ]
  },
  {
   "cell_type": "markdown",
   "id": "0a871049",
   "metadata": {},
   "source": [
    "##Half of the columns contains the null values see the variation initially it contains 111 columns but now it is decreased to 53 after deleting null values columns "
   ]
  },
  {
   "cell_type": "markdown",
   "id": "77f9a9c3",
   "metadata": {},
   "source": [
    "##Now,Let's find  the count of the loan_verification"
   ]
  },
  {
   "cell_type": "code",
   "execution_count": 143,
   "id": "c94a03ad",
   "metadata": {},
   "outputs": [
    {
     "data": {
      "text/plain": [
       "verification_status\n",
       "Not Verified       16921\n",
       "Verified           12809\n",
       "Source Verified     9987\n",
       "Name: count, dtype: int64"
      ]
     },
     "execution_count": 143,
     "metadata": {},
     "output_type": "execute_result"
    }
   ],
   "source": [
    "loandata.verification_status.value_counts()"
   ]
  },
  {
   "cell_type": "markdown",
   "id": "bc5adab3",
   "metadata": {},
   "source": [
    "# UNIVARIATE ANALYSIS"
   ]
  },
  {
   "cell_type": "code",
   "execution_count": 144,
   "id": "8461c0af",
   "metadata": {},
   "outputs": [
    {
     "data": {
      "text/plain": [
       "<Axes: xlabel='loan_status'>"
      ]
     },
     "execution_count": 144,
     "metadata": {},
     "output_type": "execute_result"
    },
    {
     "data": {
      "image/png": "[encoded data removed]",
      "text/plain": [
       "<Figure size 640x480 with 1 Axes>"
      ]
     },
     "metadata": {},
     "output_type": "display_data"
    }
   ],
   "source": [
    "loandata.loan_status.value_counts(normalize=True).plot.bar()"
   ]
  },
  {
   "cell_type": "markdown",
   "id": "b7d79b90",
   "metadata": {},
   "source": [
    "# Loan status VS Annual Income"
   ]
  },
  {
   "cell_type": "code",
   "execution_count": 145,
   "id": "7a959bc8",
   "metadata": {},
   "outputs": [
    {
     "data": {
      "text/plain": [
       "6000000.0"
      ]
     },
     "execution_count": 145,
     "metadata": {},
     "output_type": "execute_result"
    }
   ],
   "source": [
    "loandata.annual_inc.max()"
   ]
  },
  {
   "cell_type": "code",
   "execution_count": 146,
   "id": "31d28b94",
   "metadata": {},
   "outputs": [
    {
     "data": {
      "text/plain": [
       "4000.0"
      ]
     },
     "execution_count": 146,
     "metadata": {},
     "output_type": "execute_result"
    }
   ],
   "source": [
    "loandata.annual_inc.min()"
   ]
  },
  {
   "cell_type": "code",
   "execution_count": 147,
   "id": "053b3924",
   "metadata": {},
   "outputs": [
    {
     "data": {
      "image/png": "[encoded data removed]",
      "text/plain": [
       "<Figure size 640x480 with 1 Axes>"
      ]
     },
     "metadata": {},
     "output_type": "display_data"
    }
   ],
   "source": [
    "palette_colors = {\"Fully Paid\": \"green\", \"Charged Off\": \"red\", \"Current\": \"yellow\"}\n",
    "sns.barplot(data=loandata,x=\"loan_status\",y=\"annual_inc\",palette=palette_colors)\n",
    "plt.show()"
   ]
  },
  {
   "cell_type": "markdown",
   "id": "218c94c4",
   "metadata": {},
   "source": [
    "#By the above bar graph we can annalyse that the annual income>=70000 are fully-paid or currently paying but below 70000 are charged off"
   ]
  },
  {
   "cell_type": "markdown",
   "id": "7bd22ff6",
   "metadata": {},
   "source": [
    "# Charged off  vs grade"
   ]
  },
  {
   "cell_type": "code",
   "execution_count": 148,
   "id": "953cebbf",
   "metadata": {},
   "outputs": [
    {
     "name": "stdout",
     "output_type": "stream",
     "text": [
      "  grade  count\n",
      "0     A    602\n",
      "1     B   1425\n",
      "2     C   1347\n",
      "3     D   1118\n",
      "4     E    715\n",
      "5     F    319\n",
      "6     G    101\n"
     ]
    }
   ],
   "source": [
    "# Filter the data where loan_status is \"Charged Off\"\n",
    "charged_off_data = loandata[loandata[\"loan_status\"] == \"Charged Off\"]\n",
    "\n",
    "# Group by grade and get the count of \"Charged Off\" loans for each grade\n",
    "grade_counts = charged_off_data.groupby(\"grade\")[\"loan_status\"].count().reset_index()\n",
    "\n",
    "# Rename the columns for clarity\n",
    "grade_counts.rename(columns={\"loan_status\": \"count\"}, inplace=True)\n",
    "\n",
    "# Display the counts\n",
    "print(grade_counts)"
   ]
  },
  {
   "cell_type": "code",
   "execution_count": 149,
   "id": "dd50f27e",
   "metadata": {},
   "outputs": [
    {
     "data": {
      "image/png": "[encoded data removed]",
      "text/plain": [
       "<Figure size 640x480 with 1 Axes>"
      ]
     },
     "metadata": {},
     "output_type": "display_data"
    }
   ],
   "source": [
    "palette_colors = {\"A\": \"green\", \"B\": \"blue\", \"C\": \"orange\",\"D\":\"yellow\",\"E\":\"purple\",\"F\":\"brown\",\"G\":\"red\"}\n",
    "sns.barplot(data=grade_counts,x=\"grade\",y=\"count\",palette=palette_colors)\n",
    "plt.show()"
   ]
  },
  {
   "cell_type": "markdown",
   "id": "3f749120",
   "metadata": {},
   "source": [
    "# Fully Paid vs Grade"
   ]
  },
  {
   "cell_type": "code",
   "execution_count": 150,
   "id": "7ca224e6",
   "metadata": {},
   "outputs": [
    {
     "name": "stdout",
     "output_type": "stream",
     "text": [
      "  grade  loan_status\n",
      "0     A         9443\n",
      "1     B        10250\n",
      "2     C         6487\n",
      "3     D         3967\n",
      "4     E         1948\n",
      "5     F          657\n",
      "6     G          198\n"
     ]
    }
   ],
   "source": [
    "fully_paid_data = loandata[loandata[\"loan_status\"] == \"Fully Paid\"]\n",
    "\n",
    "# Group by grade and get the count of \"Charged Off\" loans for each grade\n",
    "fully_paid_counts = fully_paid_data.groupby(\"grade\")[\"loan_status\"].count().reset_index()\n",
    "\n",
    "# Display the counts\n",
    "print(fully_paid_counts)"
   ]
  },
  {
   "cell_type": "code",
   "execution_count": 151,
   "id": "95b99f8c",
   "metadata": {},
   "outputs": [
    {
     "data": {
      "image/png": "[encoded data removed]",
      "text/plain": [
       "<Figure size 640x480 with 1 Axes>"
      ]
     },
     "metadata": {},
     "output_type": "display_data"
    }
   ],
   "source": [
    "palette_colors = {\"A\": \"green\", \"B\": \"blue\", \"C\": \"orange\",\"D\":\"yellow\",\"E\":\"purple\",\"F\":\"brown\",\"G\":\"red\"}\n",
    "sns.barplot(data=fully_paid_counts,x=\"grade\",y=\"loan_status\",palette=palette_colors)\n",
    "plt.show()"
   ]
  },
  {
   "cell_type": "markdown",
   "id": "eaa28d0e",
   "metadata": {},
   "source": [
    "# Charged Off VS Annual Income"
   ]
  },
  {
   "cell_type": "code",
   "execution_count": 152,
   "id": "3db2bf6c",
   "metadata": {},
   "outputs": [
    {
     "data": {
      "text/plain": [
       "4080.0"
      ]
     },
     "execution_count": 152,
     "metadata": {},
     "output_type": "execute_result"
    }
   ],
   "source": [
    "charged_off_data.annual_inc.min()"
   ]
  },
  {
   "cell_type": "code",
   "execution_count": 153,
   "id": "7ff2b269",
   "metadata": {},
   "outputs": [
    {
     "data": {
      "text/plain": [
       "1250000.0"
      ]
     },
     "execution_count": 153,
     "metadata": {},
     "output_type": "execute_result"
    }
   ],
   "source": [
    "charged_off_data.annual_inc.max()"
   ]
  },
  {
   "cell_type": "code",
   "execution_count": 154,
   "id": "dfaaaa92",
   "metadata": {},
   "outputs": [],
   "source": [
    "def func(loandata):\n",
    "    charged_off_data.loc[(charged_off_data[\"annual_inc\"] >= 4000) & (charged_off_data[\"annual_inc\"] <=50000), \"annual_inc_range\"] = \"very low\"\n",
    "    charged_off_data.loc[(charged_off_data[\"annual_inc\"] > 50000) & (charged_off_data[\"annual_inc\"] <=100000), \"annual_inc_range\"] = \"low\"\n",
    "    charged_off_data.loc[(charged_off_data[\"annual_inc\"] > 100000) & (charged_off_data[\"annual_inc\"] <= 1000000), \"annual_inc_range\"] = \"medium\"\n",
    "    charged_off_data.loc[(charged_off_data[\"annual_inc\"] > 1000000) & (charged_off_data[\"annual_inc\"] <=6000000), \"annual_inc_range\"] = \"high\"\n",
    "    \n",
    "    return charged_off_data\n",
    "\n",
    "result = func(loandata)\n"
   ]
  },
  {
   "cell_type": "code",
   "execution_count": 155,
   "id": "972739e1",
   "metadata": {},
   "outputs": [],
   "source": [
    "annual_chargeoff_data = charged_off_data.groupby(\"annual_inc_range\")[\"loan_status\"].count().reset_index()"
   ]
  },
  {
   "cell_type": "code",
   "execution_count": 156,
   "id": "e19ad539",
   "metadata": {},
   "outputs": [
    {
     "data": {
      "text/html": [
       "<div>\n",
       "<style scoped>\n",
       "    .dataframe tbody tr th:only-of-type {\n",
       "        vertical-align: middle;\n",
       "    }\n",
       "\n",
       "    .dataframe tbody tr th {\n",
       "        vertical-align: top;\n",
       "    }\n",
       "\n",
       "    .dataframe thead th {\n",
       "        text-align: right;\n",
       "    }\n",
       "</style>\n",
       "<table border=\"1\" class=\"dataframe\">\n",
       "  <thead>\n",
       "    <tr style=\"text-align: right;\">\n",
       "      <th></th>\n",
       "      <th>annual_inc_range</th>\n",
       "      <th>loan_status</th>\n",
       "    </tr>\n",
       "  </thead>\n",
       "  <tbody>\n",
       "    <tr>\n",
       "      <th>0</th>\n",
       "      <td>high</td>\n",
       "      <td>1</td>\n",
       "    </tr>\n",
       "    <tr>\n",
       "      <th>1</th>\n",
       "      <td>low</td>\n",
       "      <td>2422</td>\n",
       "    </tr>\n",
       "    <tr>\n",
       "      <th>2</th>\n",
       "      <td>medium</td>\n",
       "      <td>591</td>\n",
       "    </tr>\n",
       "    <tr>\n",
       "      <th>3</th>\n",
       "      <td>very low</td>\n",
       "      <td>2613</td>\n",
       "    </tr>\n",
       "  </tbody>\n",
       "</table>\n",
       "</div>"
      ],
      "text/plain": [
       "  annual_inc_range  loan_status\n",
       "0             high            1\n",
       "1              low         2422\n",
       "2           medium          591\n",
       "3         very low         2613"
      ]
     },
     "execution_count": 156,
     "metadata": {},
     "output_type": "execute_result"
    }
   ],
   "source": [
    "annual_chargeoff_data"
   ]
  },
  {
   "cell_type": "code",
   "execution_count": 157,
   "id": "0eeb8a43",
   "metadata": {},
   "outputs": [
    {
     "data": {
      "text/plain": [
       "<Axes: xlabel='annual_inc_range', ylabel='loan_status'>"
      ]
     },
     "execution_count": 157,
     "metadata": {},
     "output_type": "execute_result"
    },
    {
     "data": {
      "image/png": "[encoded data removed]",
      "text/plain": [
       "<Figure size 640x480 with 1 Axes>"
      ]
     },
     "metadata": {},
     "output_type": "display_data"
    }
   ],
   "source": [
    "palette_colors={\"high\":\"green\",\"low\":\"red\",\"very low\":\"red\",\"medium\":\"yellow\"}\n",
    "sns.barplot(data=annual_chargeoff_data,x=\"annual_inc_range\",y=\"loan_status\",palette=palette_colors)"
   ]
  },
  {
   "cell_type": "markdown",
   "id": "1eed8d1d",
   "metadata": {},
   "source": [
    "# Fully paid VS Annual Income"
   ]
  },
  {
   "cell_type": "code",
   "execution_count": 158,
   "id": "29a27702",
   "metadata": {},
   "outputs": [
    {
     "data": {
      "text/plain": [
       "4000.0"
      ]
     },
     "execution_count": 158,
     "metadata": {},
     "output_type": "execute_result"
    }
   ],
   "source": [
    "fully_paid_data.annual_inc.min()"
   ]
  },
  {
   "cell_type": "code",
   "execution_count": 159,
   "id": "e36da027",
   "metadata": {},
   "outputs": [
    {
     "data": {
      "text/plain": [
       "6000000.0"
      ]
     },
     "execution_count": 159,
     "metadata": {},
     "output_type": "execute_result"
    }
   ],
   "source": [
    "fully_paid_data.annual_inc.max()"
   ]
  },
  {
   "cell_type": "code",
   "execution_count": 160,
   "id": "3aaa1084",
   "metadata": {},
   "outputs": [],
   "source": [
    "def func(loandata):\n",
    "    fully_paid_data.loc[(fully_paid_data[\"annual_inc\"] >4000) & (fully_paid_data[\"annual_inc\"] <=100000), \"annual_inc_range\"] = \"low\"\n",
    "    fully_paid_data.loc[(fully_paid_data[\"annual_inc\"] > 100000) & (fully_paid_data[\"annual_inc\"] <=5000000), \"annual_inc_range\"] = \"medium\"\n",
    "    fully_paid_data.loc[(fully_paid_data[\"annual_inc\"] > 1000000) & (fully_paid_data[\"annual_inc\"] <=6000000), \"annual_inc_range\"] = \"high\"\n",
    "    \n",
    "    return fully_paid_data\n",
    "\n",
    "result = func(loandata)"
   ]
  },
  {
   "cell_type": "code",
   "execution_count": 161,
   "id": "9676342c",
   "metadata": {},
   "outputs": [],
   "source": [
    "annualinc_fullypaid_data=fully_paid_data.groupby(\"annual_inc_range\")[\"loan_status\"].count().reset_index()"
   ]
  },
  {
   "cell_type": "code",
   "execution_count": 162,
   "id": "e03e6bd9",
   "metadata": {},
   "outputs": [
    {
     "data": {
      "text/html": [
       "<div>\n",
       "<style scoped>\n",
       "    .dataframe tbody tr th:only-of-type {\n",
       "        vertical-align: middle;\n",
       "    }\n",
       "\n",
       "    .dataframe tbody tr th {\n",
       "        vertical-align: top;\n",
       "    }\n",
       "\n",
       "    .dataframe thead th {\n",
       "        text-align: right;\n",
       "    }\n",
       "</style>\n",
       "<table border=\"1\" class=\"dataframe\">\n",
       "  <thead>\n",
       "    <tr style=\"text-align: right;\">\n",
       "      <th></th>\n",
       "      <th>annual_inc_range</th>\n",
       "      <th>loan_status</th>\n",
       "    </tr>\n",
       "  </thead>\n",
       "  <tbody>\n",
       "    <tr>\n",
       "      <th>0</th>\n",
       "      <td>high</td>\n",
       "      <td>13</td>\n",
       "    </tr>\n",
       "    <tr>\n",
       "      <th>1</th>\n",
       "      <td>low</td>\n",
       "      <td>28060</td>\n",
       "    </tr>\n",
       "    <tr>\n",
       "      <th>2</th>\n",
       "      <td>medium</td>\n",
       "      <td>4876</td>\n",
       "    </tr>\n",
       "  </tbody>\n",
       "</table>\n",
       "</div>"
      ],
      "text/plain": [
       "  annual_inc_range  loan_status\n",
       "0             high           13\n",
       "1              low        28060\n",
       "2           medium         4876"
      ]
     },
     "execution_count": 162,
     "metadata": {},
     "output_type": "execute_result"
    }
   ],
   "source": [
    "annualinc_fullypaid_data"
   ]
  },
  {
   "cell_type": "code",
   "execution_count": 163,
   "id": "405a3569",
   "metadata": {},
   "outputs": [
    {
     "data": {
      "image/png": "[encoded data removed]",
      "text/plain": [
       "<Figure size 640x480 with 1 Axes>"
      ]
     },
     "metadata": {},
     "output_type": "display_data"
    }
   ],
   "source": [
    "palette_colors={\"high\":\"green\",\"low\":\"red\",\"medium\":\"yellow\"}\n",
    "sns.barplot(data=annualinc_fullypaid_data,x=\"annual_inc_range\",y=\"loan_status\",palette=palette_colors)\n",
    "plt.show()"
   ]
  },
  {
   "cell_type": "markdown",
   "id": "1e2e7f0b",
   "metadata": {},
   "source": [
    "This gives a different pattern because the low income people are high count in paying the loan."
   ]
  },
  {
   "cell_type": "markdown",
   "id": "d23e55e1",
   "metadata": {},
   "source": [
    "# Charged off VS Home Ownership"
   ]
  },
  {
   "cell_type": "code",
   "execution_count": 164,
   "id": "1a8456ed",
   "metadata": {},
   "outputs": [],
   "source": [
    "chargedoff_home_data=charged_off_data.groupby(\"home_ownership\")[\"loan_status\"].count().reset_index()"
   ]
  },
  {
   "cell_type": "code",
   "execution_count": 165,
   "id": "cdf5e561",
   "metadata": {},
   "outputs": [
    {
     "data": {
      "text/html": [
       "<div>\n",
       "<style scoped>\n",
       "    .dataframe tbody tr th:only-of-type {\n",
       "        vertical-align: middle;\n",
       "    }\n",
       "\n",
       "    .dataframe tbody tr th {\n",
       "        vertical-align: top;\n",
       "    }\n",
       "\n",
       "    .dataframe thead th {\n",
       "        text-align: right;\n",
       "    }\n",
       "</style>\n",
       "<table border=\"1\" class=\"dataframe\">\n",
       "  <thead>\n",
       "    <tr style=\"text-align: right;\">\n",
       "      <th></th>\n",
       "      <th>home_ownership</th>\n",
       "      <th>loan_status</th>\n",
       "    </tr>\n",
       "  </thead>\n",
       "  <tbody>\n",
       "    <tr>\n",
       "      <th>0</th>\n",
       "      <td>MORTGAGE</td>\n",
       "      <td>2327</td>\n",
       "    </tr>\n",
       "    <tr>\n",
       "      <th>1</th>\n",
       "      <td>OTHER</td>\n",
       "      <td>18</td>\n",
       "    </tr>\n",
       "    <tr>\n",
       "      <th>2</th>\n",
       "      <td>OWN</td>\n",
       "      <td>443</td>\n",
       "    </tr>\n",
       "    <tr>\n",
       "      <th>3</th>\n",
       "      <td>RENT</td>\n",
       "      <td>2839</td>\n",
       "    </tr>\n",
       "  </tbody>\n",
       "</table>\n",
       "</div>"
      ],
      "text/plain": [
       "  home_ownership  loan_status\n",
       "0       MORTGAGE         2327\n",
       "1          OTHER           18\n",
       "2            OWN          443\n",
       "3           RENT         2839"
      ]
     },
     "execution_count": 165,
     "metadata": {},
     "output_type": "execute_result"
    }
   ],
   "source": [
    "chargedoff_home_data"
   ]
  },
  {
   "cell_type": "code",
   "execution_count": 166,
   "id": "a6e75b55",
   "metadata": {},
   "outputs": [
    {
     "data": {
      "text/plain": [
       "<Axes: xlabel='home_ownership', ylabel='loan_status'>"
      ]
     },
     "execution_count": 166,
     "metadata": {},
     "output_type": "execute_result"
    },
    {
     "data": {
      "image/png": "[encoded data removed]",
      "text/plain": [
       "<Figure size 640x480 with 1 Axes>"
      ]
     },
     "metadata": {},
     "output_type": "display_data"
    }
   ],
   "source": [
    "palette_colors={\"MORTGAGE\":\"Red\",\"OWN\":\"green\",\"RENT\":\"yellow\",\"OTHER\":\"blue\"}\n",
    "sns.barplot(data=chargedoff_home_data,x=\"home_ownership\",y=\"loan_status\",palette=palette_colors)"
   ]
  },
  {
   "cell_type": "markdown",
   "id": "4aff9ae0",
   "metadata": {},
   "source": [
    "There are more people \"default\" in the mortgage field"
   ]
  },
  {
   "cell_type": "markdown",
   "id": "80d1344a",
   "metadata": {},
   "source": [
    "# Fully paid VS Home ownership"
   ]
  },
  {
   "cell_type": "code",
   "execution_count": 167,
   "id": "154f83fa",
   "metadata": {},
   "outputs": [],
   "source": [
    "fullypaid_home_data=fully_paid_data.groupby(\"home_ownership\")[\"loan_status\"].count().reset_index()"
   ]
  },
  {
   "cell_type": "code",
   "execution_count": 168,
   "id": "9198a8ed",
   "metadata": {},
   "outputs": [
    {
     "data": {
      "text/html": [
       "<div>\n",
       "<style scoped>\n",
       "    .dataframe tbody tr th:only-of-type {\n",
       "        vertical-align: middle;\n",
       "    }\n",
       "\n",
       "    .dataframe tbody tr th {\n",
       "        vertical-align: top;\n",
       "    }\n",
       "\n",
       "    .dataframe thead th {\n",
       "        text-align: right;\n",
       "    }\n",
       "</style>\n",
       "<table border=\"1\" class=\"dataframe\">\n",
       "  <thead>\n",
       "    <tr style=\"text-align: right;\">\n",
       "      <th></th>\n",
       "      <th>home_ownership</th>\n",
       "      <th>loan_status</th>\n",
       "    </tr>\n",
       "  </thead>\n",
       "  <tbody>\n",
       "    <tr>\n",
       "      <th>0</th>\n",
       "      <td>MORTGAGE</td>\n",
       "      <td>14694</td>\n",
       "    </tr>\n",
       "    <tr>\n",
       "      <th>1</th>\n",
       "      <td>NONE</td>\n",
       "      <td>3</td>\n",
       "    </tr>\n",
       "    <tr>\n",
       "      <th>2</th>\n",
       "      <td>OTHER</td>\n",
       "      <td>80</td>\n",
       "    </tr>\n",
       "    <tr>\n",
       "      <th>3</th>\n",
       "      <td>OWN</td>\n",
       "      <td>2532</td>\n",
       "    </tr>\n",
       "    <tr>\n",
       "      <th>4</th>\n",
       "      <td>RENT</td>\n",
       "      <td>15641</td>\n",
       "    </tr>\n",
       "  </tbody>\n",
       "</table>\n",
       "</div>"
      ],
      "text/plain": [
       "  home_ownership  loan_status\n",
       "0       MORTGAGE        14694\n",
       "1           NONE            3\n",
       "2          OTHER           80\n",
       "3            OWN         2532\n",
       "4           RENT        15641"
      ]
     },
     "execution_count": 168,
     "metadata": {},
     "output_type": "execute_result"
    }
   ],
   "source": [
    "fullypaid_home_data"
   ]
  },
  {
   "cell_type": "code",
   "execution_count": 169,
   "id": "4ec79e12",
   "metadata": {},
   "outputs": [
    {
     "data": {
      "text/plain": [
       "<Axes: xlabel='home_ownership', ylabel='loan_status'>"
      ]
     },
     "execution_count": 169,
     "metadata": {},
     "output_type": "execute_result"
    },
    {
     "data": {
      "image/png": "[encoded data removed]",
      "text/plain": [
       "<Figure size 640x480 with 1 Axes>"
      ]
     },
     "metadata": {},
     "output_type": "display_data"
    }
   ],
   "source": [
    "palette_colors={\"MORTGAGE\":\"Red\",\"OWN\":\"green\",\"RENT\":\"yellow\",\"OTHER\":\"blue\",\"NONE\":\"black\"}\n",
    "sns.barplot(data=fullypaid_home_data,x=\"home_ownership\",y=\"loan_status\",palette=palette_colors)"
   ]
  },
  {
   "cell_type": "markdown",
   "id": "d428b2af",
   "metadata": {},
   "source": [
    "By this analysis we can clear one thing that is \"Home ownership\" is not much impact on paying the loan"
   ]
  },
  {
   "cell_type": "markdown",
   "id": "93b35cfb",
   "metadata": {},
   "source": [
    "# Charged off vs Loan Amount"
   ]
  },
  {
   "cell_type": "code",
   "execution_count": 170,
   "id": "06c06827",
   "metadata": {},
   "outputs": [
    {
     "data": {
      "text/plain": [
       "<Axes: xlabel='loan_amnt', ylabel='Density'>"
      ]
     },
     "execution_count": 170,
     "metadata": {},
     "output_type": "execute_result"
    },
    {
     "data": {
      "image/png": "[encoded data removed]",
      "text/plain": [
       "<Figure size 640x480 with 1 Axes>"
      ]
     },
     "metadata": {},
     "output_type": "display_data"
    }
   ],
   "source": [
    "sns.distplot(charged_off_data.loan_amnt)"
   ]
  },
  {
   "cell_type": "code",
   "execution_count": 171,
   "id": "6f36f05b",
   "metadata": {},
   "outputs": [
    {
     "data": {
      "text/plain": [
       "<Axes: xlabel='term', ylabel='loan_status'>"
      ]
     },
     "execution_count": 171,
     "metadata": {},
     "output_type": "execute_result"
    },
    {
     "data": {
      "image/png": "[encoded data removed]",
      "text/plain": [
       "<Figure size 640x480 with 1 Axes>"
      ]
     },
     "metadata": {},
     "output_type": "display_data"
    }
   ],
   "source": [
    "term_charge_data=charged_off_data.groupby(\"term\")[\"loan_status\"].count().reset_index()\n",
    "sns.barplot(data=term_charge_data,x=\"term\",y=\"loan_status\",palette={\"red\",\"green\"})"
   ]
  },
  {
   "cell_type": "markdown",
   "id": "ceea70f0",
   "metadata": {},
   "source": [
    "# verified VS  purpose"
   ]
  },
  {
   "cell_type": "code",
   "execution_count": 172,
   "id": "e7c239e8",
   "metadata": {},
   "outputs": [],
   "source": [
    "verified_data=loandata[loandata[\"verification_status\"]==\"Verified\"]\n",
    "purpose_verif_data=verified_data.groupby(\"purpose\")[\"verification_status\"].count().reset_index()"
   ]
  },
  {
   "cell_type": "code",
   "execution_count": 173,
   "id": "0857d02b",
   "metadata": {},
   "outputs": [
    {
     "data": {
      "image/png": "[encoded data removed]",
      "text/plain": [
       "<Figure size 2000x600 with 1 Axes>"
      ]
     },
     "metadata": {},
     "output_type": "display_data"
    }
   ],
   "source": [
    "plt.figure(figsize=[20,6])\n",
    "sns.barplot(data=purpose_verif_data,x=\"purpose\",y=\"verification_status\",palette=sns.color_palette())\n",
    "plt.show()"
   ]
  },
  {
   "cell_type": "markdown",
   "id": "d215fc9e",
   "metadata": {},
   "source": [
    "# Interest rate vs Charged_off"
   ]
  },
  {
   "cell_type": "code",
   "execution_count": 174,
   "id": "8f0ab1c6",
   "metadata": {},
   "outputs": [],
   "source": [
    "charged_off_data[\"int_rate\"]=charged_off_data.int_rate.str.replace(\"%\",\"\")"
   ]
  },
  {
   "cell_type": "code",
   "execution_count": 175,
   "id": "2f3477ba",
   "metadata": {},
   "outputs": [],
   "source": [
    "charged_off_data[\"int_rate\"]=charged_off_data.int_rate.astype(float)"
   ]
  },
  {
   "cell_type": "code",
   "execution_count": 176,
   "id": "d4db234e",
   "metadata": {},
   "outputs": [
    {
     "data": {
      "text/plain": [
       "5.42"
      ]
     },
     "execution_count": 176,
     "metadata": {},
     "output_type": "execute_result"
    }
   ],
   "source": [
    "charged_off_data.int_rate.min()"
   ]
  },
  {
   "cell_type": "code",
   "execution_count": 177,
   "id": "9971387f",
   "metadata": {},
   "outputs": [
    {
     "data": {
      "text/plain": [
       "24.4"
      ]
     },
     "execution_count": 177,
     "metadata": {},
     "output_type": "execute_result"
    }
   ],
   "source": [
    "charged_off_data.int_rate.max()"
   ]
  },
  {
   "cell_type": "code",
   "execution_count": 178,
   "id": "0461f11e",
   "metadata": {},
   "outputs": [
    {
     "name": "stdout",
     "output_type": "stream",
     "text": [
      "<class 'pandas.core.series.Series'>\n",
      "Index: 5627 entries, 1 to 39688\n",
      "Series name: int_rate\n",
      "Non-Null Count  Dtype  \n",
      "--------------  -----  \n",
      "5627 non-null   float64\n",
      "dtypes: float64(1)\n",
      "memory usage: 87.9 KB\n"
     ]
    }
   ],
   "source": [
    "charged_off_data.int_rate.info()"
   ]
  },
  {
   "cell_type": "code",
   "execution_count": 179,
   "id": "40a9e3df",
   "metadata": {},
   "outputs": [
    {
     "data": {
      "text/plain": [
       "count    5627.000000\n",
       "mean       13.820432\n",
       "std         3.654413\n",
       "min         5.420000\n",
       "25%        11.310000\n",
       "50%        13.610000\n",
       "75%        16.400000\n",
       "max        24.400000\n",
       "Name: int_rate, dtype: float64"
      ]
     },
     "execution_count": 179,
     "metadata": {},
     "output_type": "execute_result"
    }
   ],
   "source": [
    "charged_off_data.int_rate.describe()"
   ]
  },
  {
   "cell_type": "code",
   "execution_count": 180,
   "id": "8777c9b4",
   "metadata": {},
   "outputs": [],
   "source": [
    "def func(charged_off_data):\n",
    "    charged_off_data.loc[(charged_off_data[\"int_rate\"] >=5) & (charged_off_data[\"int_rate\"] <=10), \"int_rate_range\"] = \"low\"\n",
    "    charged_off_data.loc[(charged_off_data[\"int_rate\"] >10) & (charged_off_data[\"int_rate\"] <=15), \"int_rate_range\"] = \"medium\"\n",
    "    charged_off_data.loc[(charged_off_data[\"int_rate\"] >15) & (charged_off_data[\"int_rate\"] <=25), \"int_rate_range\"] = \"high\"\n",
    "\n",
    "    return charged_off_data\n",
    "\n",
    "result = func(charged_off_data)"
   ]
  },
  {
   "cell_type": "code",
   "execution_count": 181,
   "id": "0f400524",
   "metadata": {},
   "outputs": [],
   "source": [
    "interest_chargeoff_data=charged_off_data.groupby(\"int_rate_range\")[\"loan_status\"].count().reset_index()"
   ]
  },
  {
   "cell_type": "code",
   "execution_count": 182,
   "id": "8c78e229",
   "metadata": {},
   "outputs": [
    {
     "data": {
      "image/png": "[encoded data removed]",
      "text/plain": [
       "<Figure size 640x480 with 1 Axes>"
      ]
     },
     "metadata": {},
     "output_type": "display_data"
    }
   ],
   "source": [
    "sns.barplot(data=interest_chargeoff_data,x=\"int_rate_range\",y=\"loan_status\",palette=sns.color_palette())\n",
    "plt.show()"
   ]
  },
  {
   "cell_type": "markdown",
   "id": "aa05968a",
   "metadata": {},
   "source": [
    "# Fully paid vs Interest rate"
   ]
  },
  {
   "cell_type": "code",
   "execution_count": 183,
   "id": "a2a7dd1e",
   "metadata": {},
   "outputs": [],
   "source": [
    "fully_paid_data[\"int_rate\"]=fully_paid_data.int_rate.str.replace(\"%\",\"\")"
   ]
  },
  {
   "cell_type": "code",
   "execution_count": 184,
   "id": "df762d87",
   "metadata": {},
   "outputs": [],
   "source": [
    "fully_paid_data[\"int_rate\"]=fully_paid_data.int_rate.astype(float)"
   ]
  },
  {
   "cell_type": "code",
   "execution_count": 185,
   "id": "416537b2",
   "metadata": {},
   "outputs": [
    {
     "data": {
      "text/plain": [
       "5.42"
      ]
     },
     "execution_count": 185,
     "metadata": {},
     "output_type": "execute_result"
    }
   ],
   "source": [
    "fully_paid_data.int_rate.min()"
   ]
  },
  {
   "cell_type": "code",
   "execution_count": 186,
   "id": "736eac1d",
   "metadata": {},
   "outputs": [
    {
     "data": {
      "text/plain": [
       "24.11"
      ]
     },
     "execution_count": 186,
     "metadata": {},
     "output_type": "execute_result"
    }
   ],
   "source": [
    "fully_paid_data.int_rate.max()"
   ]
  },
  {
   "cell_type": "code",
   "execution_count": 187,
   "id": "591a2014",
   "metadata": {},
   "outputs": [
    {
     "data": {
      "text/plain": [
       "count    32950.000000\n",
       "mean        11.609761\n",
       "std          3.599964\n",
       "min          5.420000\n",
       "25%          8.490000\n",
       "50%         11.490000\n",
       "75%         13.990000\n",
       "max         24.110000\n",
       "Name: int_rate, dtype: float64"
      ]
     },
     "execution_count": 187,
     "metadata": {},
     "output_type": "execute_result"
    }
   ],
   "source": [
    "fully_paid_data.int_rate.describe()"
   ]
  },
  {
   "cell_type": "code",
   "execution_count": 188,
   "id": "3e7ea584",
   "metadata": {},
   "outputs": [],
   "source": [
    "def func(fully_paid_data):\n",
    "    fully_paid_data.loc[(fully_paid_data[\"int_rate\"] >=5) & (fully_paid_data[\"int_rate\"] <=10), \"int_rate_range\"] = \"low\"\n",
    "    fully_paid_data.loc[(fully_paid_data[\"int_rate\"] >10) & (fully_paid_data[\"int_rate\"] <=15), \"int_rate_range\"] = \"medium\"\n",
    "    fully_paid_data.loc[(fully_paid_data[\"int_rate\"] >15) & (fully_paid_data[\"int_rate\"] <=25), \"int_rate_range\"] = \"high\"\n",
    "\n",
    "    return fully_paid_data\n",
    "\n",
    "result = func(fully_paid_data)"
   ]
  },
  {
   "cell_type": "code",
   "execution_count": 189,
   "id": "230aa0aa",
   "metadata": {},
   "outputs": [],
   "source": [
    "interest_fullypaid_data=fully_paid_data.groupby(\"int_rate_range\")[\"loan_status\"].count().reset_index()"
   ]
  },
  {
   "cell_type": "code",
   "execution_count": 190,
   "id": "afc75ee9",
   "metadata": {},
   "outputs": [
    {
     "data": {
      "text/plain": [
       "<Axes: ylabel='proportion'>"
      ]
     },
     "execution_count": 190,
     "metadata": {},
     "output_type": "execute_result"
    },
    {
     "data": {
      "image/png": "[encoded data removed]",
      "text/plain": [
       "<Figure size 640x480 with 1 Axes>"
      ]
     },
     "metadata": {},
     "output_type": "display_data"
    }
   ],
   "source": [
    "interest_fullypaid_data.int_rate_range.value_counts(normalize=True).plot.pie()"
   ]
  },
  {
   "cell_type": "markdown",
   "id": "43ad0d14",
   "metadata": {},
   "source": [
    "Mostly medium and high interest rate  loans are \"default\""
   ]
  },
  {
   "cell_type": "code",
   "execution_count": 191,
   "id": "f5e416e3",
   "metadata": {},
   "outputs": [],
   "source": [
    "from datetime import datetime \n",
    "verified_data[\"issue_d\"]=pd.to_datetime(verified_data[\"issue_d\"],format=\"%b-%y\")\n",
    "verified_data[\"issue_mnth\"]=verified_data[\"issue_d\"].dt.month_name()"
   ]
  },
  {
   "cell_type": "code",
   "execution_count": 192,
   "id": "faddce1a",
   "metadata": {},
   "outputs": [],
   "source": [
    "month_verify_data=verified_data.groupby(\"issue_mnth\")[\"verification_status\"].count().reset_index()"
   ]
  },
  {
   "cell_type": "code",
   "execution_count": 193,
   "id": "414f2ef8",
   "metadata": {},
   "outputs": [
    {
     "data": {
      "image/png": "[encoded data removed]",
      "text/plain": [
       "<Figure size 2000x600 with 1 Axes>"
      ]
     },
     "metadata": {},
     "output_type": "display_data"
    }
   ],
   "source": [
    "plt.figure(figsize=[20,6])\n",
    "sns.barplot(data=month_verify_data,x=\"issue_mnth\",y=\"verification_status\",palette=sns.color_palette())\n",
    "plt.show()"
   ]
  },
  {
   "cell_type": "markdown",
   "id": "fc7fdb19",
   "metadata": {},
   "source": [
    "Most of them are verified and issued at the end of the year"
   ]
  },
  {
   "cell_type": "markdown",
   "id": "caf5945b",
   "metadata": {},
   "source": [
    "# Verified VS Grades"
   ]
  },
  {
   "cell_type": "code",
   "execution_count": 194,
   "id": "b533a2ea",
   "metadata": {},
   "outputs": [],
   "source": [
    "grade_verify_data=verified_data.groupby(\"grade\")[\"verification_status\"].count().reset_index()"
   ]
  },
  {
   "cell_type": "code",
   "execution_count": 195,
   "id": "124ef1f6",
   "metadata": {},
   "outputs": [
    {
     "data": {
      "text/plain": [
       "<Axes: xlabel='grade', ylabel='verification_status'>"
      ]
     },
     "execution_count": 195,
     "metadata": {},
     "output_type": "execute_result"
    },
    {
     "data": {
      "image/png": "[encoded data removed]",
      "text/plain": [
       "<Figure size 640x480 with 1 Axes>"
      ]
     },
     "metadata": {},
     "output_type": "display_data"
    }
   ],
   "source": [
    "sns.barplot(data=grade_verify_data,x=\"grade\",y=\"verification_status\",palette=sns.color_palette())"
   ]
  },
  {
   "cell_type": "markdown",
   "id": "bc73b74e",
   "metadata": {},
   "source": [
    "A,B,C credit score grades are approved for the loan."
   ]
  },
  {
   "cell_type": "markdown",
   "id": "39135679",
   "metadata": {},
   "source": [
    "# Loan Status VS Credit Experience"
   ]
  },
  {
   "cell_type": "code",
   "execution_count": 196,
   "id": "ca98a947",
   "metadata": {},
   "outputs": [],
   "source": [
    "# calulate credit experience from opened date to till now\n",
    "loandata[\"earliest_cr_line_years\"]=2024-(pd.to_datetime(loandata[\"earliest_cr_line\"],format=\"%b-%y\").dt.year)"
   ]
  },
  {
   "cell_type": "code",
   "execution_count": 197,
   "id": "65f15ddd",
   "metadata": {},
   "outputs": [
    {
     "data": {
      "text/plain": [
       "-44"
      ]
     },
     "execution_count": 197,
     "metadata": {},
     "output_type": "execute_result"
    }
   ],
   "source": [
    "loandata[\"earliest_cr_line_years\"].min()"
   ]
  },
  {
   "cell_type": "code",
   "execution_count": 198,
   "id": "960a8c0d",
   "metadata": {},
   "outputs": [
    {
     "data": {
      "text/plain": [
       "55"
      ]
     },
     "execution_count": 198,
     "metadata": {},
     "output_type": "execute_result"
    }
   ],
   "source": [
    "loandata[\"earliest_cr_line_years\"].max()"
   ]
  },
  {
   "cell_type": "code",
   "execution_count": 199,
   "id": "b96f553d",
   "metadata": {},
   "outputs": [
    {
     "name": "stdout",
     "output_type": "stream",
     "text": [
      "<class 'pandas.core.series.Series'>\n",
      "RangeIndex: 39717 entries, 0 to 39716\n",
      "Series name: earliest_cr_line_years\n",
      "Non-Null Count  Dtype\n",
      "--------------  -----\n",
      "39717 non-null  int32\n",
      "dtypes: int32(1)\n",
      "memory usage: 155.3 KB\n"
     ]
    }
   ],
   "source": [
    "loandata[\"earliest_cr_line_years\"].info()"
   ]
  },
  {
   "cell_type": "code",
   "execution_count": 200,
   "id": "72542ced",
   "metadata": {},
   "outputs": [],
   "source": [
    "def func(loandata):\n",
    "    loandata.loc[(loandata[\"earliest_cr_line_years\"] <=3), \"cr_years_range\"] = \"low\"\n",
    "    loandata.loc[(loandata[\"earliest_cr_line_years\"] >3) & (loandata[\"earliest_cr_line_years\"] <=25), \"cr_years_range\"] = \"medium\"\n",
    "    loandata.loc[(loandata[\"earliest_cr_line_years\"] >25), \"cr_years_range\"] = \"high\"\n",
    "\n",
    "    return loandata\n",
    "\n",
    "result = func(loandata)"
   ]
  },
  {
   "cell_type": "code",
   "execution_count": 201,
   "id": "a2c5bda0",
   "metadata": {},
   "outputs": [],
   "source": [
    "years_verif_data=loandata[loandata[\"verification_status\"] == \"Verified\"].groupby(\"cr_years_range\")[\"verification_status\"].count().reset_index()  "
   ]
  },
  {
   "cell_type": "code",
   "execution_count": 202,
   "id": "44476ec5",
   "metadata": {},
   "outputs": [
    {
     "data": {
      "text/html": [
       "<div>\n",
       "<style scoped>\n",
       "    .dataframe tbody tr th:only-of-type {\n",
       "        vertical-align: middle;\n",
       "    }\n",
       "\n",
       "    .dataframe tbody tr th {\n",
       "        vertical-align: top;\n",
       "    }\n",
       "\n",
       "    .dataframe thead th {\n",
       "        text-align: right;\n",
       "    }\n",
       "</style>\n",
       "<table border=\"1\" class=\"dataframe\">\n",
       "  <thead>\n",
       "    <tr style=\"text-align: right;\">\n",
       "      <th></th>\n",
       "      <th>cr_years_range</th>\n",
       "      <th>verification_status</th>\n",
       "    </tr>\n",
       "  </thead>\n",
       "  <tbody>\n",
       "    <tr>\n",
       "      <th>0</th>\n",
       "      <td>high</td>\n",
       "      <td>7935</td>\n",
       "    </tr>\n",
       "    <tr>\n",
       "      <th>1</th>\n",
       "      <td>low</td>\n",
       "      <td>34</td>\n",
       "    </tr>\n",
       "    <tr>\n",
       "      <th>2</th>\n",
       "      <td>medium</td>\n",
       "      <td>4840</td>\n",
       "    </tr>\n",
       "  </tbody>\n",
       "</table>\n",
       "</div>"
      ],
      "text/plain": [
       "  cr_years_range  verification_status\n",
       "0           high                 7935\n",
       "1            low                   34\n",
       "2         medium                 4840"
      ]
     },
     "execution_count": 202,
     "metadata": {},
     "output_type": "execute_result"
    }
   ],
   "source": [
    "years_verif_data"
   ]
  },
  {
   "cell_type": "code",
   "execution_count": 203,
   "id": "50ff0513",
   "metadata": {},
   "outputs": [
    {
     "data": {
      "text/plain": [
       "<Axes: xlabel='verification_status', ylabel='cr_years_range'>"
      ]
     },
     "execution_count": 203,
     "metadata": {},
     "output_type": "execute_result"
    },
    {
     "data": {
      "image/png": "[encoded data removed]",
      "text/plain": [
       "<Figure size 640x480 with 1 Axes>"
      ]
     },
     "metadata": {},
     "output_type": "display_data"
    }
   ],
   "source": [
    "sns.barplot(data=years_verif_data,x=\"verification_status\",y=\"cr_years_range\",palette=sns.color_palette())"
   ]
  },
  {
   "cell_type": "markdown",
   "id": "f7c40d23",
   "metadata": {},
   "source": [
    "# Numeric vs Numeric Analysis"
   ]
  },
  {
   "cell_type": "markdown",
   "id": "58670c3e",
   "metadata": {},
   "source": [
    "Loan Amount VS Funded Amount"
   ]
  },
  {
   "cell_type": "code",
   "execution_count": 204,
   "id": "802d670f",
   "metadata": {},
   "outputs": [
    {
     "data": {
      "image/png": "[encoded data removed]",
      "text/plain": [
       "<Figure size 640x480 with 1 Axes>"
      ]
     },
     "metadata": {},
     "output_type": "display_data"
    }
   ],
   "source": [
    "plt.scatter(x=loandata.loan_amnt,y=loandata.funded_amnt)\n",
    "plt.show()"
   ]
  },
  {
   "cell_type": "raw",
   "id": "fef79bec",
   "metadata": {},
   "source": [
    "Total Funded Amount VS Funded Amount by Investors"
   ]
  },
  {
   "cell_type": "code",
   "execution_count": 205,
   "id": "a370fd1a",
   "metadata": {},
   "outputs": [
    {
     "data": {
      "text/plain": [
       "<matplotlib.collections.PathCollection at 0x2458f514090>"
      ]
     },
     "execution_count": 205,
     "metadata": {},
     "output_type": "execute_result"
    },
    {
     "data": {
      "image/png": "[encoded data removed]",
      "text/plain": [
       "<Figure size 640x480 with 1 Axes>"
      ]
     },
     "metadata": {},
     "output_type": "display_data"
    }
   ],
   "source": [
    "plt.scatter(loandata.funded_amnt,loandata.funded_amnt_inv)"
   ]
  },
  {
   "cell_type": "markdown",
   "id": "5ff49ead",
   "metadata": {},
   "source": [
    "Categorical VS Numerical Variables"
   ]
  },
  {
   "cell_type": "code",
   "execution_count": 206,
   "id": "75b7aa50",
   "metadata": {},
   "outputs": [
    {
     "data": {
      "text/plain": [
       "29.99"
      ]
     },
     "execution_count": 206,
     "metadata": {},
     "output_type": "execute_result"
    }
   ],
   "source": [
    "loandata[\"dti\"].max()"
   ]
  },
  {
   "cell_type": "code",
   "execution_count": 207,
   "id": "7943abbe",
   "metadata": {},
   "outputs": [],
   "source": [
    "def func(loandata):\n",
    "    loandata.loc[(loandata[\"dti\"] >=0) & (loandata[\"dti\"] <=5),\"dti_range\"] = \"low\"\n",
    "    loandata.loc[(loandata[\"dti\"] >5) & (loandata[\"dti\"] <=15), \"dti_range\"] = \"medium\"\n",
    "    loandata.loc[(loandata[\"dti\"] >20), \"dti_range\"] = \"high\"\n",
    "\n",
    "    return loandata\n",
    "\n",
    "result = func(loandata)"
   ]
  },
  {
   "cell_type": "code",
   "execution_count": 208,
   "id": "5f750000",
   "metadata": {},
   "outputs": [],
   "source": [
    "dti_verif_data=loandata[loandata[\"verification_status\"] == \"Verified\"].groupby(\"dti_range\")[\"verification_status\"].count().reset_index()  "
   ]
  },
  {
   "cell_type": "code",
   "execution_count": 209,
   "id": "bc3f7e83",
   "metadata": {},
   "outputs": [
    {
     "data": {
      "text/html": [
       "<div>\n",
       "<style scoped>\n",
       "    .dataframe tbody tr th:only-of-type {\n",
       "        vertical-align: middle;\n",
       "    }\n",
       "\n",
       "    .dataframe tbody tr th {\n",
       "        vertical-align: top;\n",
       "    }\n",
       "\n",
       "    .dataframe thead th {\n",
       "        text-align: right;\n",
       "    }\n",
       "</style>\n",
       "<table border=\"1\" class=\"dataframe\">\n",
       "  <thead>\n",
       "    <tr style=\"text-align: right;\">\n",
       "      <th></th>\n",
       "      <th>dti_range</th>\n",
       "      <th>verification_status</th>\n",
       "    </tr>\n",
       "  </thead>\n",
       "  <tbody>\n",
       "    <tr>\n",
       "      <th>0</th>\n",
       "      <td>high</td>\n",
       "      <td>2977</td>\n",
       "    </tr>\n",
       "    <tr>\n",
       "      <th>1</th>\n",
       "      <td>low</td>\n",
       "      <td>1339</td>\n",
       "    </tr>\n",
       "    <tr>\n",
       "      <th>2</th>\n",
       "      <td>medium</td>\n",
       "      <td>5416</td>\n",
       "    </tr>\n",
       "  </tbody>\n",
       "</table>\n",
       "</div>"
      ],
      "text/plain": [
       "  dti_range  verification_status\n",
       "0      high                 2977\n",
       "1       low                 1339\n",
       "2    medium                 5416"
      ]
     },
     "execution_count": 209,
     "metadata": {},
     "output_type": "execute_result"
    }
   ],
   "source": [
    "dti_verif_data"
   ]
  },
  {
   "cell_type": "code",
   "execution_count": 210,
   "id": "d6255d66",
   "metadata": {},
   "outputs": [
    {
     "data": {
      "text/plain": [
       "<Axes: xlabel='dti_range', ylabel='verification_status'>"
      ]
     },
     "execution_count": 210,
     "metadata": {},
     "output_type": "execute_result"
    },
    {
     "data": {
      "image/png": "[encoded data removed]",
      "text/plain": [
       "<Figure size 640x480 with 1 Axes>"
      ]
     },
     "metadata": {},
     "output_type": "display_data"
    }
   ],
   "source": [
    "sns.barplot(data=dti_verif_data,x=\"dti_range\",y=\"verification_status\",palette=sns.color_palette())"
   ]
  },
  {
   "cell_type": "markdown",
   "id": "36b36a71",
   "metadata": {},
   "source": [
    "It is not in  right way  because most of the loans are verified are having high and medium dti range.These loans are may be get \"default\""
   ]
  },
  {
   "cell_type": "markdown",
   "id": "519e1993",
   "metadata": {},
   "source": [
    "# Delinq in past 2 years vs Verified"
   ]
  },
  {
   "cell_type": "code",
   "execution_count": 211,
   "id": "8c6cb759",
   "metadata": {},
   "outputs": [],
   "source": [
    "delinq_verif_data=loandata[loandata[\"verification_status\"] == \"Verified\"].groupby(\"delinq_2yrs\")[\"verification_status\"].count().reset_index() "
   ]
  },
  {
   "cell_type": "code",
   "execution_count": 212,
   "id": "8be46bd6",
   "metadata": {},
   "outputs": [
    {
     "data": {
      "text/html": [
       "<div>\n",
       "<style scoped>\n",
       "    .dataframe tbody tr th:only-of-type {\n",
       "        vertical-align: middle;\n",
       "    }\n",
       "\n",
       "    .dataframe tbody tr th {\n",
       "        vertical-align: top;\n",
       "    }\n",
       "\n",
       "    .dataframe thead th {\n",
       "        text-align: right;\n",
       "    }\n",
       "</style>\n",
       "<table border=\"1\" class=\"dataframe\">\n",
       "  <thead>\n",
       "    <tr style=\"text-align: right;\">\n",
       "      <th></th>\n",
       "      <th>delinq_2yrs</th>\n",
       "      <th>verification_status</th>\n",
       "    </tr>\n",
       "  </thead>\n",
       "  <tbody>\n",
       "    <tr>\n",
       "      <th>0</th>\n",
       "      <td>0</td>\n",
       "      <td>11422</td>\n",
       "    </tr>\n",
       "    <tr>\n",
       "      <th>1</th>\n",
       "      <td>1</td>\n",
       "      <td>1050</td>\n",
       "    </tr>\n",
       "    <tr>\n",
       "      <th>2</th>\n",
       "      <td>2</td>\n",
       "      <td>225</td>\n",
       "    </tr>\n",
       "    <tr>\n",
       "      <th>3</th>\n",
       "      <td>3</td>\n",
       "      <td>75</td>\n",
       "    </tr>\n",
       "    <tr>\n",
       "      <th>4</th>\n",
       "      <td>4</td>\n",
       "      <td>20</td>\n",
       "    </tr>\n",
       "    <tr>\n",
       "      <th>5</th>\n",
       "      <td>5</td>\n",
       "      <td>9</td>\n",
       "    </tr>\n",
       "    <tr>\n",
       "      <th>6</th>\n",
       "      <td>6</td>\n",
       "      <td>5</td>\n",
       "    </tr>\n",
       "    <tr>\n",
       "      <th>7</th>\n",
       "      <td>7</td>\n",
       "      <td>2</td>\n",
       "    </tr>\n",
       "    <tr>\n",
       "      <th>8</th>\n",
       "      <td>9</td>\n",
       "      <td>1</td>\n",
       "    </tr>\n",
       "  </tbody>\n",
       "</table>\n",
       "</div>"
      ],
      "text/plain": [
       "   delinq_2yrs  verification_status\n",
       "0            0                11422\n",
       "1            1                 1050\n",
       "2            2                  225\n",
       "3            3                   75\n",
       "4            4                   20\n",
       "5            5                    9\n",
       "6            6                    5\n",
       "7            7                    2\n",
       "8            9                    1"
      ]
     },
     "execution_count": 212,
     "metadata": {},
     "output_type": "execute_result"
    }
   ],
   "source": [
    "delinq_verif_data"
   ]
  },
  {
   "cell_type": "markdown",
   "id": "3bf108d4",
   "metadata": {},
   "source": [
    "Most of the Verified people are not delinq in 2 years"
   ]
  },
  {
   "cell_type": "markdown",
   "id": "bdae426b",
   "metadata": {},
   "source": [
    "# Multivariate Analysis"
   ]
  },
  {
   "cell_type": "markdown",
   "id": "9238c298",
   "metadata": {},
   "source": [
    "Charged off vs grades vs interest rate ranges"
   ]
  },
  {
   "cell_type": "code",
   "execution_count": 213,
   "id": "30fd329b",
   "metadata": {},
   "outputs": [],
   "source": [
    "loandata[\"loanstatus_flag\"]=np.where(loandata.loan_status==\"Charged Off\",1,0)"
   ]
  },
  {
   "cell_type": "code",
   "execution_count": 214,
   "id": "3421c4dd",
   "metadata": {},
   "outputs": [],
   "source": [
    "loandata[\"int_rate_float\"]=loandata.int_rate.str.replace(\"%\",\"\")"
   ]
  },
  {
   "cell_type": "code",
   "execution_count": 215,
   "id": "07cac8a1",
   "metadata": {},
   "outputs": [],
   "source": [
    "loandata[\"int_rate_float\"]=loandata.int_rate_float.astype(float)"
   ]
  },
  {
   "cell_type": "code",
   "execution_count": 216,
   "id": "6730f80a",
   "metadata": {},
   "outputs": [
    {
     "name": "stdout",
     "output_type": "stream",
     "text": [
      "<class 'pandas.core.series.Series'>\n",
      "RangeIndex: 39717 entries, 0 to 39716\n",
      "Series name: int_rate_float\n",
      "Non-Null Count  Dtype  \n",
      "--------------  -----  \n",
      "39717 non-null  float64\n",
      "dtypes: float64(1)\n",
      "memory usage: 310.4 KB\n"
     ]
    }
   ],
   "source": [
    "loandata.int_rate_float.info()"
   ]
  },
  {
   "cell_type": "code",
   "execution_count": 217,
   "id": "639f5f04",
   "metadata": {},
   "outputs": [],
   "source": [
    "def func(loandata):\n",
    "    loandata.loc[(loandata[\"int_rate_float\"] >=5) & (loandata[\"int_rate_float\"] <=10), \"int_rate_range\"] = \"low\"\n",
    "    loandata.loc[(loandata[\"int_rate_float\"] >10) & (loandata[\"int_rate_float\"] <=12), \"int_rate_range\"] = \"medium\"\n",
    "    loandata.loc[(loandata[\"int_rate_float\"] >12) & (loandata[\"int_rate_float\"] <=25), \"int_rate_range\"] = \"high\"\n",
    "\n",
    "    return loandata\n",
    "\n",
    "result = func(loandata)"
   ]
  },
  {
   "cell_type": "code",
   "execution_count": 218,
   "id": "4216271a",
   "metadata": {},
   "outputs": [],
   "source": [
    "res=pd.pivot_table(data=loandata,columns=\"int_rate_range\",index=\"grade\",values=\"loanstatus_flag\")"
   ]
  },
  {
   "cell_type": "code",
   "execution_count": 219,
   "id": "5123e670",
   "metadata": {},
   "outputs": [
    {
     "data": {
      "text/html": [
       "<div>\n",
       "<style scoped>\n",
       "    .dataframe tbody tr th:only-of-type {\n",
       "        vertical-align: middle;\n",
       "    }\n",
       "\n",
       "    .dataframe tbody tr th {\n",
       "        vertical-align: top;\n",
       "    }\n",
       "\n",
       "    .dataframe thead th {\n",
       "        text-align: right;\n",
       "    }\n",
       "</style>\n",
       "<table border=\"1\" class=\"dataframe\">\n",
       "  <thead>\n",
       "    <tr style=\"text-align: right;\">\n",
       "      <th>int_rate_range</th>\n",
       "      <th>high</th>\n",
       "      <th>low</th>\n",
       "      <th>medium</th>\n",
       "    </tr>\n",
       "    <tr>\n",
       "      <th>grade</th>\n",
       "      <th></th>\n",
       "      <th></th>\n",
       "      <th></th>\n",
       "    </tr>\n",
       "  </thead>\n",
       "  <tbody>\n",
       "    <tr>\n",
       "      <th>A</th>\n",
       "      <td>NaN</td>\n",
       "      <td>0.059693</td>\n",
       "      <td>NaN</td>\n",
       "    </tr>\n",
       "    <tr>\n",
       "      <th>B</th>\n",
       "      <td>0.134398</td>\n",
       "      <td>0.099303</td>\n",
       "      <td>0.121032</td>\n",
       "    </tr>\n",
       "    <tr>\n",
       "      <th>C</th>\n",
       "      <td>0.164946</td>\n",
       "      <td>0.000000</td>\n",
       "      <td>0.199422</td>\n",
       "    </tr>\n",
       "    <tr>\n",
       "      <th>D</th>\n",
       "      <td>0.210805</td>\n",
       "      <td>0.000000</td>\n",
       "      <td>0.222222</td>\n",
       "    </tr>\n",
       "    <tr>\n",
       "      <th>E</th>\n",
       "      <td>0.251938</td>\n",
       "      <td>0.000000</td>\n",
       "      <td>NaN</td>\n",
       "    </tr>\n",
       "    <tr>\n",
       "      <th>F</th>\n",
       "      <td>0.304099</td>\n",
       "      <td>NaN</td>\n",
       "      <td>NaN</td>\n",
       "    </tr>\n",
       "    <tr>\n",
       "      <th>G</th>\n",
       "      <td>0.319620</td>\n",
       "      <td>NaN</td>\n",
       "      <td>NaN</td>\n",
       "    </tr>\n",
       "  </tbody>\n",
       "</table>\n",
       "</div>"
      ],
      "text/plain": [
       "int_rate_range      high       low    medium\n",
       "grade                                       \n",
       "A                    NaN  0.059693       NaN\n",
       "B               0.134398  0.099303  0.121032\n",
       "C               0.164946  0.000000  0.199422\n",
       "D               0.210805  0.000000  0.222222\n",
       "E               0.251938  0.000000       NaN\n",
       "F               0.304099       NaN       NaN\n",
       "G               0.319620       NaN       NaN"
      ]
     },
     "execution_count": 219,
     "metadata": {},
     "output_type": "execute_result"
    }
   ],
   "source": [
    "res"
   ]
  },
  {
   "cell_type": "code",
   "execution_count": 220,
   "id": "ce199966",
   "metadata": {},
   "outputs": [
    {
     "data": {
      "text/plain": [
       "<Axes: xlabel='int_rate_range', ylabel='grade'>"
      ]
     },
     "execution_count": 220,
     "metadata": {},
     "output_type": "execute_result"
    },
    {
     "data": {
      "image/png": "[encoded data removed]",
      "text/plain": [
       "<Figure size 640x480 with 2 Axes>"
      ]
     },
     "metadata": {},
     "output_type": "display_data"
    }
   ],
   "source": [
    "sns.heatmap(res,annot=True,cmap=\"RdYlGn\",center=0.117)"
   ]
  },
  {
   "cell_type": "markdown",
   "id": "7657534f",
   "metadata": {},
   "source": [
    "High interest rate people and D,E,F,G grade people are more likely to be \"default\""
   ]
  },
  {
   "cell_type": "markdown",
   "id": "e144fe6e",
   "metadata": {},
   "source": [
    "Grade VS Interest VS Verified"
   ]
  },
  {
   "cell_type": "code",
   "execution_count": 232,
   "id": "c12c1ecb",
   "metadata": {},
   "outputs": [],
   "source": [
    "loandata[\"response_flag\"]=np.where(loandata.verification_status==\"Verified\",1,0)"
   ]
  },
  {
   "cell_type": "code",
   "execution_count": 237,
   "id": "030109fa",
   "metadata": {},
   "outputs": [],
   "source": [
    "res1=pd.pivot_table(data=loandata,columns=\"int_rate_range\",index=\"grade\",values=\"response_flag\")"
   ]
  },
  {
   "cell_type": "code",
   "execution_count": 238,
   "id": "f1d283ac",
   "metadata": {},
   "outputs": [
    {
     "data": {
      "text/html": [
       "<div>\n",
       "<style scoped>\n",
       "    .dataframe tbody tr th:only-of-type {\n",
       "        vertical-align: middle;\n",
       "    }\n",
       "\n",
       "    .dataframe tbody tr th {\n",
       "        vertical-align: top;\n",
       "    }\n",
       "\n",
       "    .dataframe thead th {\n",
       "        text-align: right;\n",
       "    }\n",
       "</style>\n",
       "<table border=\"1\" class=\"dataframe\">\n",
       "  <thead>\n",
       "    <tr style=\"text-align: right;\">\n",
       "      <th>int_rate_range</th>\n",
       "      <th>high</th>\n",
       "      <th>low</th>\n",
       "      <th>medium</th>\n",
       "    </tr>\n",
       "    <tr>\n",
       "      <th>grade</th>\n",
       "      <th></th>\n",
       "      <th></th>\n",
       "      <th></th>\n",
       "    </tr>\n",
       "  </thead>\n",
       "  <tbody>\n",
       "    <tr>\n",
       "      <th>A</th>\n",
       "      <td>NaN</td>\n",
       "      <td>0.232821</td>\n",
       "      <td>NaN</td>\n",
       "    </tr>\n",
       "    <tr>\n",
       "      <th>B</th>\n",
       "      <td>0.359947</td>\n",
       "      <td>0.261760</td>\n",
       "      <td>0.306654</td>\n",
       "    </tr>\n",
       "    <tr>\n",
       "      <th>C</th>\n",
       "      <td>0.333247</td>\n",
       "      <td>0.000000</td>\n",
       "      <td>0.089595</td>\n",
       "    </tr>\n",
       "    <tr>\n",
       "      <th>D</th>\n",
       "      <td>0.372497</td>\n",
       "      <td>0.500000</td>\n",
       "      <td>0.000000</td>\n",
       "    </tr>\n",
       "    <tr>\n",
       "      <th>E</th>\n",
       "      <td>0.500352</td>\n",
       "      <td>0.000000</td>\n",
       "      <td>NaN</td>\n",
       "    </tr>\n",
       "    <tr>\n",
       "      <th>F</th>\n",
       "      <td>0.561487</td>\n",
       "      <td>NaN</td>\n",
       "      <td>NaN</td>\n",
       "    </tr>\n",
       "    <tr>\n",
       "      <th>G</th>\n",
       "      <td>0.639241</td>\n",
       "      <td>NaN</td>\n",
       "      <td>NaN</td>\n",
       "    </tr>\n",
       "  </tbody>\n",
       "</table>\n",
       "</div>"
      ],
      "text/plain": [
       "int_rate_range      high       low    medium\n",
       "grade                                       \n",
       "A                    NaN  0.232821       NaN\n",
       "B               0.359947  0.261760  0.306654\n",
       "C               0.333247  0.000000  0.089595\n",
       "D               0.372497  0.500000  0.000000\n",
       "E               0.500352  0.000000       NaN\n",
       "F               0.561487       NaN       NaN\n",
       "G               0.639241       NaN       NaN"
      ]
     },
     "execution_count": 238,
     "metadata": {},
     "output_type": "execute_result"
    }
   ],
   "source": [
    "res1"
   ]
  },
  {
   "cell_type": "code",
   "execution_count": 239,
   "id": "aecafb0e",
   "metadata": {},
   "outputs": [
    {
     "data": {
      "text/plain": [
       "<Axes: xlabel='int_rate_range', ylabel='grade'>"
      ]
     },
     "execution_count": 239,
     "metadata": {},
     "output_type": "execute_result"
    },
    {
     "data": {
      "image/png": "[encoded data removed]",
      "text/plain": [
       "<Figure size 640x480 with 2 Axes>"
      ]
     },
     "metadata": {},
     "output_type": "display_data"
    }
   ],
   "source": [
    "sns.heatmap(res1,annot=True,cmap=\"RdYlGn\")"
   ]
  },
  {
   "cell_type": "markdown",
   "id": "65a398fc",
   "metadata": {},
   "source": [
    "The loan is verifed for the E,F,G and with high interests.It is might be risky for the company because these type of loans will be having more chances of default"
   ]
  },
  {
   "cell_type": "code",
   "execution_count": 241,
   "id": "b8c0ccd9",
   "metadata": {},
   "outputs": [],
   "source": [
    "res2=pd.pivot_table(data=loandata,columns=\"int_rate_range\",index=\"loan_status\",values=\"response_flag\")"
   ]
  },
  {
   "cell_type": "code",
   "execution_count": 242,
   "id": "c9f6c5c4",
   "metadata": {},
   "outputs": [
    {
     "data": {
      "text/html": [
       "<div>\n",
       "<style scoped>\n",
       "    .dataframe tbody tr th:only-of-type {\n",
       "        vertical-align: middle;\n",
       "    }\n",
       "\n",
       "    .dataframe tbody tr th {\n",
       "        vertical-align: top;\n",
       "    }\n",
       "\n",
       "    .dataframe thead th {\n",
       "        text-align: right;\n",
       "    }\n",
       "</style>\n",
       "<table border=\"1\" class=\"dataframe\">\n",
       "  <thead>\n",
       "    <tr style=\"text-align: right;\">\n",
       "      <th>int_rate_range</th>\n",
       "      <th>high</th>\n",
       "      <th>low</th>\n",
       "      <th>medium</th>\n",
       "    </tr>\n",
       "    <tr>\n",
       "      <th>loan_status</th>\n",
       "      <th></th>\n",
       "      <th></th>\n",
       "      <th></th>\n",
       "    </tr>\n",
       "  </thead>\n",
       "  <tbody>\n",
       "    <tr>\n",
       "      <th>Charged Off</th>\n",
       "      <td>0.410078</td>\n",
       "      <td>0.242169</td>\n",
       "      <td>0.300188</td>\n",
       "    </tr>\n",
       "    <tr>\n",
       "      <th>Current</th>\n",
       "      <td>0.558894</td>\n",
       "      <td>0.259740</td>\n",
       "      <td>0.510823</td>\n",
       "    </tr>\n",
       "    <tr>\n",
       "      <th>Fully Paid</th>\n",
       "      <td>0.374410</td>\n",
       "      <td>0.237681</td>\n",
       "      <td>0.290425</td>\n",
       "    </tr>\n",
       "  </tbody>\n",
       "</table>\n",
       "</div>"
      ],
      "text/plain": [
       "int_rate_range      high       low    medium\n",
       "loan_status                                 \n",
       "Charged Off     0.410078  0.242169  0.300188\n",
       "Current         0.558894  0.259740  0.510823\n",
       "Fully Paid      0.374410  0.237681  0.290425"
      ]
     },
     "execution_count": 242,
     "metadata": {},
     "output_type": "execute_result"
    }
   ],
   "source": [
    "res2"
   ]
  },
  {
   "cell_type": "code",
   "execution_count": 243,
   "id": "8d9217cf",
   "metadata": {},
   "outputs": [
    {
     "data": {
      "text/plain": [
       "<Axes: xlabel='int_rate_range', ylabel='loan_status'>"
      ]
     },
     "execution_count": 243,
     "metadata": {},
     "output_type": "execute_result"
    },
    {
     "data": {
      "image/png": "[encoded data removed]",
      "text/plain": [
       "<Figure size 640x480 with 2 Axes>"
      ]
     },
     "metadata": {},
     "output_type": "display_data"
    }
   ],
   "source": [
    "sns.heatmap(res2,annot=True,cmap=\"RdYlGn\")"
   ]
  },
  {
   "cell_type": "markdown",
   "id": "1712da60",
   "metadata": {},
   "source": [
    "Rather than fully paid and charged off The company is willing to verify the loan for the \"Current\" loan status.It cannot be predicted that it will be \"defaulted\" or not but, By considering other factors it can be possible"
   ]
  },
  {
   "cell_type": "markdown",
   "id": "90fec4ac",
   "metadata": {},
   "source": [
    "# Conclusion"
   ]
  },
  {
   "cell_type": "markdown",
   "id": "7a78bcbc",
   "metadata": {},
   "source": [
    "Conclusion:Analysing the default loans makes the company to get less loss.So,I conclude my analysis by discussing some factors\n",
    "Annual income,Grade,earliest_credit_line,Interest rates plays major role to preict the loan is default or not"
   ]
  }
 ],
 "metadata": {
  "kernelspec": {
   "display_name": "Python 3 (ipykernel)",
   "language": "python",
   "name": "python3"
  },
  "language_info": {
   "codemirror_mode": {
    "name": "ipython",
    "version": 3
   },
   "file_extension": ".py",
   "mimetype": "text/x-python",
   "name": "python",
   "nbconvert_exporter": "python",
   "pygments_lexer": "ipython3",
   "version": "3.11.4"
  }
 },
 "nbformat": 4,
 "nbformat_minor": 5
}
